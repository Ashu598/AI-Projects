{
  "nbformat": 4,
  "nbformat_minor": 0,
  "metadata": {
    "colab": {
      "provenance": [],
      "authorship_tag": "ABX9TyNCHbPnjOfkt3YQr8U8sHE3",
      "include_colab_link": true
    },
    "kernelspec": {
      "name": "python3",
      "display_name": "Python 3"
    },
    "language_info": {
      "name": "python"
    }
  },
  "cells": [
    {
      "cell_type": "markdown",
      "metadata": {
        "id": "view-in-github",
        "colab_type": "text"
      },
      "source": [
        "<a href=\"https://colab.research.google.com/github/Ashu598/AI-Projects/blob/main/Text_summarization_OpenRouter.ipynb\" target=\"_parent\"><img src=\"https://colab.research.google.com/assets/colab-badge.svg\" alt=\"Open In Colab\"/></a>"
      ]
    },
    {
      "cell_type": "code",
      "source": [
        "import pandas as pd\n",
        "df = pd.read_csv('/content/policybazaar_review.csv')"
      ],
      "metadata": {
        "id": "OfLcMjx4V4UU"
      },
      "execution_count": 1,
      "outputs": []
    },
    {
      "cell_type": "code",
      "source": [
        "data = df[df['result']=='NEGATIVE']\n",
        "data"
      ],
      "metadata": {
        "colab": {
          "base_uri": "https://localhost:8080/",
          "height": 423
        },
        "id": "fyVa_wQNV_S8",
        "outputId": "996abd1b-7e4b-4c2f-a7be-7cf36bb79c38"
      },
      "execution_count": 2,
      "outputs": [
        {
          "output_type": "execute_result",
          "data": {
            "text/plain": [
              "                                               content  score  thumbsUpCount  \\\n",
              "1    Guys don't buy anything from these scammers. I...      1              3   \n",
              "3    My ears are bleeding now. Keep calling. I am c...      1              0   \n",
              "4    Policy bazaar uses unethical business practice...      1              1   \n",
              "5    Why the customer care is harassing us by calli...      1              0   \n",
              "6    They make fool of customer... at the time of t...      1              0   \n",
              "..                                                 ...    ...            ...   \n",
              "824  Please don't call me again and again I am neve...      1              0   \n",
              "825  worst experience only commission based service...      1              0   \n",
              "826    while vehicle inspection call... not supportive      2              0   \n",
              "827        policy bazzar is very worst don't go anyone      1              0   \n",
              "828  Abey jhutta policy,aur kitna fake number se ca...      1              0   \n",
              "\n",
              "                                          replyContent appVersion    result  \n",
              "1    Hi Amit, my apologies for the unpleasant exper...      5.0.5  NEGATIVE  \n",
              "3    Divyanshu, our intent is not to disturb you bu...      4.0.7  NEGATIVE  \n",
              "4    Hi Yash, please let us know what went wrong, a...      5.2.3  NEGATIVE  \n",
              "5    This should not have happened, Sumeet. Our int...      4.2.0  NEGATIVE  \n",
              "6    Hi, we are extremely sorry for the inconvenien...      3.2.9  NEGATIVE  \n",
              "..                                                 ...        ...       ...  \n",
              "824  We apologize if it felt intrusive. To unsubscr...        NaN  NEGATIVE  \n",
              "825  Hi Anil, we are always looking for ways to enh...      5.2.4  NEGATIVE  \n",
              "826  Hi Ravindra, please allow us an opportunity to...        NaN  NEGATIVE  \n",
              "827  Hi, we regret to note your unpleasant experien...      4.2.4  NEGATIVE  \n",
              "828  We are sorry for the inconvenience caused to y...        NaN  NEGATIVE  \n",
              "\n",
              "[451 rows x 6 columns]"
            ],
            "text/html": [
              "\n",
              "  <div id=\"df-f3b8f1c1-0ea5-4b1b-a94d-ad0e72ce954d\" class=\"colab-df-container\">\n",
              "    <div>\n",
              "<style scoped>\n",
              "    .dataframe tbody tr th:only-of-type {\n",
              "        vertical-align: middle;\n",
              "    }\n",
              "\n",
              "    .dataframe tbody tr th {\n",
              "        vertical-align: top;\n",
              "    }\n",
              "\n",
              "    .dataframe thead th {\n",
              "        text-align: right;\n",
              "    }\n",
              "</style>\n",
              "<table border=\"1\" class=\"dataframe\">\n",
              "  <thead>\n",
              "    <tr style=\"text-align: right;\">\n",
              "      <th></th>\n",
              "      <th>content</th>\n",
              "      <th>score</th>\n",
              "      <th>thumbsUpCount</th>\n",
              "      <th>replyContent</th>\n",
              "      <th>appVersion</th>\n",
              "      <th>result</th>\n",
              "    </tr>\n",
              "  </thead>\n",
              "  <tbody>\n",
              "    <tr>\n",
              "      <th>1</th>\n",
              "      <td>Guys don't buy anything from these scammers. I...</td>\n",
              "      <td>1</td>\n",
              "      <td>3</td>\n",
              "      <td>Hi Amit, my apologies for the unpleasant exper...</td>\n",
              "      <td>5.0.5</td>\n",
              "      <td>NEGATIVE</td>\n",
              "    </tr>\n",
              "    <tr>\n",
              "      <th>3</th>\n",
              "      <td>My ears are bleeding now. Keep calling. I am c...</td>\n",
              "      <td>1</td>\n",
              "      <td>0</td>\n",
              "      <td>Divyanshu, our intent is not to disturb you bu...</td>\n",
              "      <td>4.0.7</td>\n",
              "      <td>NEGATIVE</td>\n",
              "    </tr>\n",
              "    <tr>\n",
              "      <th>4</th>\n",
              "      <td>Policy bazaar uses unethical business practice...</td>\n",
              "      <td>1</td>\n",
              "      <td>1</td>\n",
              "      <td>Hi Yash, please let us know what went wrong, a...</td>\n",
              "      <td>5.2.3</td>\n",
              "      <td>NEGATIVE</td>\n",
              "    </tr>\n",
              "    <tr>\n",
              "      <th>5</th>\n",
              "      <td>Why the customer care is harassing us by calli...</td>\n",
              "      <td>1</td>\n",
              "      <td>0</td>\n",
              "      <td>This should not have happened, Sumeet. Our int...</td>\n",
              "      <td>4.2.0</td>\n",
              "      <td>NEGATIVE</td>\n",
              "    </tr>\n",
              "    <tr>\n",
              "      <th>6</th>\n",
              "      <td>They make fool of customer... at the time of t...</td>\n",
              "      <td>1</td>\n",
              "      <td>0</td>\n",
              "      <td>Hi, we are extremely sorry for the inconvenien...</td>\n",
              "      <td>3.2.9</td>\n",
              "      <td>NEGATIVE</td>\n",
              "    </tr>\n",
              "    <tr>\n",
              "      <th>...</th>\n",
              "      <td>...</td>\n",
              "      <td>...</td>\n",
              "      <td>...</td>\n",
              "      <td>...</td>\n",
              "      <td>...</td>\n",
              "      <td>...</td>\n",
              "    </tr>\n",
              "    <tr>\n",
              "      <th>824</th>\n",
              "      <td>Please don't call me again and again I am neve...</td>\n",
              "      <td>1</td>\n",
              "      <td>0</td>\n",
              "      <td>We apologize if it felt intrusive. To unsubscr...</td>\n",
              "      <td>NaN</td>\n",
              "      <td>NEGATIVE</td>\n",
              "    </tr>\n",
              "    <tr>\n",
              "      <th>825</th>\n",
              "      <td>worst experience only commission based service...</td>\n",
              "      <td>1</td>\n",
              "      <td>0</td>\n",
              "      <td>Hi Anil, we are always looking for ways to enh...</td>\n",
              "      <td>5.2.4</td>\n",
              "      <td>NEGATIVE</td>\n",
              "    </tr>\n",
              "    <tr>\n",
              "      <th>826</th>\n",
              "      <td>while vehicle inspection call... not supportive</td>\n",
              "      <td>2</td>\n",
              "      <td>0</td>\n",
              "      <td>Hi Ravindra, please allow us an opportunity to...</td>\n",
              "      <td>NaN</td>\n",
              "      <td>NEGATIVE</td>\n",
              "    </tr>\n",
              "    <tr>\n",
              "      <th>827</th>\n",
              "      <td>policy bazzar is very worst don't go anyone</td>\n",
              "      <td>1</td>\n",
              "      <td>0</td>\n",
              "      <td>Hi, we regret to note your unpleasant experien...</td>\n",
              "      <td>4.2.4</td>\n",
              "      <td>NEGATIVE</td>\n",
              "    </tr>\n",
              "    <tr>\n",
              "      <th>828</th>\n",
              "      <td>Abey jhutta policy,aur kitna fake number se ca...</td>\n",
              "      <td>1</td>\n",
              "      <td>0</td>\n",
              "      <td>We are sorry for the inconvenience caused to y...</td>\n",
              "      <td>NaN</td>\n",
              "      <td>NEGATIVE</td>\n",
              "    </tr>\n",
              "  </tbody>\n",
              "</table>\n",
              "<p>451 rows × 6 columns</p>\n",
              "</div>\n",
              "    <div class=\"colab-df-buttons\">\n",
              "\n",
              "  <div class=\"colab-df-container\">\n",
              "    <button class=\"colab-df-convert\" onclick=\"convertToInteractive('df-f3b8f1c1-0ea5-4b1b-a94d-ad0e72ce954d')\"\n",
              "            title=\"Convert this dataframe to an interactive table.\"\n",
              "            style=\"display:none;\">\n",
              "\n",
              "  <svg xmlns=\"http://www.w3.org/2000/svg\" height=\"24px\" viewBox=\"0 -960 960 960\">\n",
              "    <path d=\"M120-120v-720h720v720H120Zm60-500h600v-160H180v160Zm220 220h160v-160H400v160Zm0 220h160v-160H400v160ZM180-400h160v-160H180v160Zm440 0h160v-160H620v160ZM180-180h160v-160H180v160Zm440 0h160v-160H620v160Z\"/>\n",
              "  </svg>\n",
              "    </button>\n",
              "\n",
              "  <style>\n",
              "    .colab-df-container {\n",
              "      display:flex;\n",
              "      gap: 12px;\n",
              "    }\n",
              "\n",
              "    .colab-df-convert {\n",
              "      background-color: #E8F0FE;\n",
              "      border: none;\n",
              "      border-radius: 50%;\n",
              "      cursor: pointer;\n",
              "      display: none;\n",
              "      fill: #1967D2;\n",
              "      height: 32px;\n",
              "      padding: 0 0 0 0;\n",
              "      width: 32px;\n",
              "    }\n",
              "\n",
              "    .colab-df-convert:hover {\n",
              "      background-color: #E2EBFA;\n",
              "      box-shadow: 0px 1px 2px rgba(60, 64, 67, 0.3), 0px 1px 3px 1px rgba(60, 64, 67, 0.15);\n",
              "      fill: #174EA6;\n",
              "    }\n",
              "\n",
              "    .colab-df-buttons div {\n",
              "      margin-bottom: 4px;\n",
              "    }\n",
              "\n",
              "    [theme=dark] .colab-df-convert {\n",
              "      background-color: #3B4455;\n",
              "      fill: #D2E3FC;\n",
              "    }\n",
              "\n",
              "    [theme=dark] .colab-df-convert:hover {\n",
              "      background-color: #434B5C;\n",
              "      box-shadow: 0px 1px 3px 1px rgba(0, 0, 0, 0.15);\n",
              "      filter: drop-shadow(0px 1px 2px rgba(0, 0, 0, 0.3));\n",
              "      fill: #FFFFFF;\n",
              "    }\n",
              "  </style>\n",
              "\n",
              "    <script>\n",
              "      const buttonEl =\n",
              "        document.querySelector('#df-f3b8f1c1-0ea5-4b1b-a94d-ad0e72ce954d button.colab-df-convert');\n",
              "      buttonEl.style.display =\n",
              "        google.colab.kernel.accessAllowed ? 'block' : 'none';\n",
              "\n",
              "      async function convertToInteractive(key) {\n",
              "        const element = document.querySelector('#df-f3b8f1c1-0ea5-4b1b-a94d-ad0e72ce954d');\n",
              "        const dataTable =\n",
              "          await google.colab.kernel.invokeFunction('convertToInteractive',\n",
              "                                                    [key], {});\n",
              "        if (!dataTable) return;\n",
              "\n",
              "        const docLinkHtml = 'Like what you see? Visit the ' +\n",
              "          '<a target=\"_blank\" href=https://colab.research.google.com/notebooks/data_table.ipynb>data table notebook</a>'\n",
              "          + ' to learn more about interactive tables.';\n",
              "        element.innerHTML = '';\n",
              "        dataTable['output_type'] = 'display_data';\n",
              "        await google.colab.output.renderOutput(dataTable, element);\n",
              "        const docLink = document.createElement('div');\n",
              "        docLink.innerHTML = docLinkHtml;\n",
              "        element.appendChild(docLink);\n",
              "      }\n",
              "    </script>\n",
              "  </div>\n",
              "\n",
              "\n",
              "<div id=\"df-bb87d54b-597d-4b5f-8579-ef1d84b17983\">\n",
              "  <button class=\"colab-df-quickchart\" onclick=\"quickchart('df-bb87d54b-597d-4b5f-8579-ef1d84b17983')\"\n",
              "            title=\"Suggest charts\"\n",
              "            style=\"display:none;\">\n",
              "\n",
              "<svg xmlns=\"http://www.w3.org/2000/svg\" height=\"24px\"viewBox=\"0 0 24 24\"\n",
              "     width=\"24px\">\n",
              "    <g>\n",
              "        <path d=\"M19 3H5c-1.1 0-2 .9-2 2v14c0 1.1.9 2 2 2h14c1.1 0 2-.9 2-2V5c0-1.1-.9-2-2-2zM9 17H7v-7h2v7zm4 0h-2V7h2v10zm4 0h-2v-4h2v4z\"/>\n",
              "    </g>\n",
              "</svg>\n",
              "  </button>\n",
              "\n",
              "<style>\n",
              "  .colab-df-quickchart {\n",
              "      --bg-color: #E8F0FE;\n",
              "      --fill-color: #1967D2;\n",
              "      --hover-bg-color: #E2EBFA;\n",
              "      --hover-fill-color: #174EA6;\n",
              "      --disabled-fill-color: #AAA;\n",
              "      --disabled-bg-color: #DDD;\n",
              "  }\n",
              "\n",
              "  [theme=dark] .colab-df-quickchart {\n",
              "      --bg-color: #3B4455;\n",
              "      --fill-color: #D2E3FC;\n",
              "      --hover-bg-color: #434B5C;\n",
              "      --hover-fill-color: #FFFFFF;\n",
              "      --disabled-bg-color: #3B4455;\n",
              "      --disabled-fill-color: #666;\n",
              "  }\n",
              "\n",
              "  .colab-df-quickchart {\n",
              "    background-color: var(--bg-color);\n",
              "    border: none;\n",
              "    border-radius: 50%;\n",
              "    cursor: pointer;\n",
              "    display: none;\n",
              "    fill: var(--fill-color);\n",
              "    height: 32px;\n",
              "    padding: 0;\n",
              "    width: 32px;\n",
              "  }\n",
              "\n",
              "  .colab-df-quickchart:hover {\n",
              "    background-color: var(--hover-bg-color);\n",
              "    box-shadow: 0 1px 2px rgba(60, 64, 67, 0.3), 0 1px 3px 1px rgba(60, 64, 67, 0.15);\n",
              "    fill: var(--button-hover-fill-color);\n",
              "  }\n",
              "\n",
              "  .colab-df-quickchart-complete:disabled,\n",
              "  .colab-df-quickchart-complete:disabled:hover {\n",
              "    background-color: var(--disabled-bg-color);\n",
              "    fill: var(--disabled-fill-color);\n",
              "    box-shadow: none;\n",
              "  }\n",
              "\n",
              "  .colab-df-spinner {\n",
              "    border: 2px solid var(--fill-color);\n",
              "    border-color: transparent;\n",
              "    border-bottom-color: var(--fill-color);\n",
              "    animation:\n",
              "      spin 1s steps(1) infinite;\n",
              "  }\n",
              "\n",
              "  @keyframes spin {\n",
              "    0% {\n",
              "      border-color: transparent;\n",
              "      border-bottom-color: var(--fill-color);\n",
              "      border-left-color: var(--fill-color);\n",
              "    }\n",
              "    20% {\n",
              "      border-color: transparent;\n",
              "      border-left-color: var(--fill-color);\n",
              "      border-top-color: var(--fill-color);\n",
              "    }\n",
              "    30% {\n",
              "      border-color: transparent;\n",
              "      border-left-color: var(--fill-color);\n",
              "      border-top-color: var(--fill-color);\n",
              "      border-right-color: var(--fill-color);\n",
              "    }\n",
              "    40% {\n",
              "      border-color: transparent;\n",
              "      border-right-color: var(--fill-color);\n",
              "      border-top-color: var(--fill-color);\n",
              "    }\n",
              "    60% {\n",
              "      border-color: transparent;\n",
              "      border-right-color: var(--fill-color);\n",
              "    }\n",
              "    80% {\n",
              "      border-color: transparent;\n",
              "      border-right-color: var(--fill-color);\n",
              "      border-bottom-color: var(--fill-color);\n",
              "    }\n",
              "    90% {\n",
              "      border-color: transparent;\n",
              "      border-bottom-color: var(--fill-color);\n",
              "    }\n",
              "  }\n",
              "</style>\n",
              "\n",
              "  <script>\n",
              "    async function quickchart(key) {\n",
              "      const quickchartButtonEl =\n",
              "        document.querySelector('#' + key + ' button');\n",
              "      quickchartButtonEl.disabled = true;  // To prevent multiple clicks.\n",
              "      quickchartButtonEl.classList.add('colab-df-spinner');\n",
              "      try {\n",
              "        const charts = await google.colab.kernel.invokeFunction(\n",
              "            'suggestCharts', [key], {});\n",
              "      } catch (error) {\n",
              "        console.error('Error during call to suggestCharts:', error);\n",
              "      }\n",
              "      quickchartButtonEl.classList.remove('colab-df-spinner');\n",
              "      quickchartButtonEl.classList.add('colab-df-quickchart-complete');\n",
              "    }\n",
              "    (() => {\n",
              "      let quickchartButtonEl =\n",
              "        document.querySelector('#df-bb87d54b-597d-4b5f-8579-ef1d84b17983 button');\n",
              "      quickchartButtonEl.style.display =\n",
              "        google.colab.kernel.accessAllowed ? 'block' : 'none';\n",
              "    })();\n",
              "  </script>\n",
              "</div>\n",
              "\n",
              "  <div id=\"id_b4e1dd29-5a36-4d4c-a2d5-feab7a89cbf9\">\n",
              "    <style>\n",
              "      .colab-df-generate {\n",
              "        background-color: #E8F0FE;\n",
              "        border: none;\n",
              "        border-radius: 50%;\n",
              "        cursor: pointer;\n",
              "        display: none;\n",
              "        fill: #1967D2;\n",
              "        height: 32px;\n",
              "        padding: 0 0 0 0;\n",
              "        width: 32px;\n",
              "      }\n",
              "\n",
              "      .colab-df-generate:hover {\n",
              "        background-color: #E2EBFA;\n",
              "        box-shadow: 0px 1px 2px rgba(60, 64, 67, 0.3), 0px 1px 3px 1px rgba(60, 64, 67, 0.15);\n",
              "        fill: #174EA6;\n",
              "      }\n",
              "\n",
              "      [theme=dark] .colab-df-generate {\n",
              "        background-color: #3B4455;\n",
              "        fill: #D2E3FC;\n",
              "      }\n",
              "\n",
              "      [theme=dark] .colab-df-generate:hover {\n",
              "        background-color: #434B5C;\n",
              "        box-shadow: 0px 1px 3px 1px rgba(0, 0, 0, 0.15);\n",
              "        filter: drop-shadow(0px 1px 2px rgba(0, 0, 0, 0.3));\n",
              "        fill: #FFFFFF;\n",
              "      }\n",
              "    </style>\n",
              "    <button class=\"colab-df-generate\" onclick=\"generateWithVariable('data')\"\n",
              "            title=\"Generate code using this dataframe.\"\n",
              "            style=\"display:none;\">\n",
              "\n",
              "  <svg xmlns=\"http://www.w3.org/2000/svg\" height=\"24px\"viewBox=\"0 0 24 24\"\n",
              "       width=\"24px\">\n",
              "    <path d=\"M7,19H8.4L18.45,9,17,7.55,7,17.6ZM5,21V16.75L18.45,3.32a2,2,0,0,1,2.83,0l1.4,1.43a1.91,1.91,0,0,1,.58,1.4,1.91,1.91,0,0,1-.58,1.4L9.25,21ZM18.45,9,17,7.55Zm-12,3A5.31,5.31,0,0,0,4.9,8.1,5.31,5.31,0,0,0,1,6.5,5.31,5.31,0,0,0,4.9,4.9,5.31,5.31,0,0,0,6.5,1,5.31,5.31,0,0,0,8.1,4.9,5.31,5.31,0,0,0,12,6.5,5.46,5.46,0,0,0,6.5,12Z\"/>\n",
              "  </svg>\n",
              "    </button>\n",
              "    <script>\n",
              "      (() => {\n",
              "      const buttonEl =\n",
              "        document.querySelector('#id_b4e1dd29-5a36-4d4c-a2d5-feab7a89cbf9 button.colab-df-generate');\n",
              "      buttonEl.style.display =\n",
              "        google.colab.kernel.accessAllowed ? 'block' : 'none';\n",
              "\n",
              "      buttonEl.onclick = () => {\n",
              "        google.colab.notebook.generateWithVariable('data');\n",
              "      }\n",
              "      })();\n",
              "    </script>\n",
              "  </div>\n",
              "\n",
              "    </div>\n",
              "  </div>\n"
            ],
            "application/vnd.google.colaboratory.intrinsic+json": {
              "type": "dataframe",
              "variable_name": "data",
              "summary": "{\n  \"name\": \"data\",\n  \"rows\": 451,\n  \"fields\": [\n    {\n      \"column\": \"content\",\n      \"properties\": {\n        \"dtype\": \"string\",\n        \"num_unique_values\": 451,\n        \"samples\": [\n          \"1. Buy insurance from policy bazar only if you are sure you will never need to claim it.( to meet RTO compliance requirements) 2. In case you ever need to claim insurance you will be running from pillar to post and fighting with coustmer care. and finally end up paying from your pocket. ( my experience twice) 3. Buy insurance from your nearest service station ( though it is expensive) because they give you cashless hassel free service. which is prompt.\",\n          \"Deduct money by fraud. Policy bazaar's advisor misguided/ cheated me and though scam, collected 10167 rupees from my account. I cancelled policy (pre-login), now it's 14 days from date of cancellation, still money is not refunded. Policy bazaar's team commiting fake commitment repeatedly. I want my money back otherwise I'm going to escalate this issue to IRDA, Consumer Forum, Will mention everything on Twitter.\",\n          \"Error 503 Service Temporarity Unavailable on the Help page.\"\n        ],\n        \"semantic_type\": \"\",\n        \"description\": \"\"\n      }\n    },\n    {\n      \"column\": \"score\",\n      \"properties\": {\n        \"dtype\": \"number\",\n        \"std\": 0,\n        \"min\": 1,\n        \"max\": 5,\n        \"num_unique_values\": 5,\n        \"samples\": [\n          2,\n          5,\n          3\n        ],\n        \"semantic_type\": \"\",\n        \"description\": \"\"\n      }\n    },\n    {\n      \"column\": \"thumbsUpCount\",\n      \"properties\": {\n        \"dtype\": \"number\",\n        \"std\": 26,\n        \"min\": 0,\n        \"max\": 309,\n        \"num_unique_values\": 34,\n        \"samples\": [\n          30,\n          31,\n          13\n        ],\n        \"semantic_type\": \"\",\n        \"description\": \"\"\n      }\n    },\n    {\n      \"column\": \"replyContent\",\n      \"properties\": {\n        \"dtype\": \"string\",\n        \"num_unique_values\": 300,\n        \"samples\": [\n          \"Shankar, we are extremely apologetic for the inconvenience caused. Allow us to look into this and try to offer a suitable resolution. We request you to e-mail us your elaborated query/concern, along with your registered contact number and policy/insurance details at app@policybazaar.com.\",\n          \"Hi Ashish, our apologies for the unpleasant experience. Please e-mail us your elaborated query/concern, along with your registered contact number and policy/insurance details at app@policybazaar.com. Our team will get back to you at the earliest.\",\n          \"Hi Vivek, please allow us an opportunity to look into this & try to offer a suitable resolution. We request you to e-mail us your elaborated concern along with your registered contact number at app@policybazaar.com. Our team will get back to you at the earliest.\"\n        ],\n        \"semantic_type\": \"\",\n        \"description\": \"\"\n      }\n    },\n    {\n      \"column\": \"appVersion\",\n      \"properties\": {\n        \"dtype\": \"category\",\n        \"num_unique_values\": 53,\n        \"samples\": [\n          \"3.0.2\",\n          \"4.1.9\",\n          \"1.0.7\"\n        ],\n        \"semantic_type\": \"\",\n        \"description\": \"\"\n      }\n    },\n    {\n      \"column\": \"result\",\n      \"properties\": {\n        \"dtype\": \"category\",\n        \"num_unique_values\": 1,\n        \"samples\": [\n          \"NEGATIVE\"\n        ],\n        \"semantic_type\": \"\",\n        \"description\": \"\"\n      }\n    }\n  ]\n}"
            }
          },
          "metadata": {},
          "execution_count": 2
        }
      ]
    },
    {
      "cell_type": "markdown",
      "source": [
        "# Text summarization\n"
      ],
      "metadata": {
        "id": "3sTWuo9URe22"
      }
    },
    {
      "cell_type": "code",
      "source": [
        "feedback = \"\"\" \"\"\"\n",
        "for text in data.content[:200]:\n",
        "  feedback = feedback  + (text)"
      ],
      "metadata": {
        "id": "l8BDo2l6RTm6"
      },
      "execution_count": 10,
      "outputs": []
    },
    {
      "cell_type": "code",
      "source": [
        "feedback"
      ],
      "metadata": {
        "colab": {
          "base_uri": "https://localhost:8080/",
          "height": 128
        },
        "id": "1redlhfyRePp",
        "outputId": "ac662228-d7a9-413c-cfe9-98bc6582e1e1"
      },
      "execution_count": 4,
      "outputs": [
        {
          "output_type": "execute_result",
          "data": {
            "text/plain": [
              "\" Guys don't buy anything from these scammers. I purchased my car policy from Reliance General Insurance through them and after 3 months I received a letter asking me to pay rs 960 stating I am not eligible for NCB as I have claim from my previous insurance policy. I gave them no Claim letter from ICICI. Now they are saying sorry but still I have to pay else they will void my policy. Seriously am shocked by the kind of scam they are running is broad daylight.My ears are bleeding now. Keep calling. I am coming for you with a bat.Policy bazaar uses unethical business practices to sell false policiesWhy the customer care is harassing us by calling us frequentlyThey make fool of customer... at the time of taking money they call you 1000 times and drop slaiva like a dog from mouth and once they have taken money nobody bothers even your claom settled or not .. or you are satisfied or not not even pick call and give excuse and blame each other department like govt banks ..instead of helping customer... policy bazaar is a fraudBad feedback in app My money loss in app KApp does not starts. Always shows the loading screen but never starts.Bad experience with PB I try to November for car insurance but no any reply from PB .very bad experiences with PB.Faltu app. I'm not able to claim the insurance. It says that it's fetching the details of the vehicle but doesn't proceed further. Bad experience. Only good at making advertisements. 👎👎App not Opening I am using redmi note 7, every time i open it, it says sorry app can't be opened, plz fix itFraud selling agents and worst customer service. I would strongly recommend not to buy anything from policy bazar. If you want to save something for future visit your financial advisor and meet them face to face and purchase policy from them and clear your doubts. This fraudsters will commit anything and everything and then straight away deny when you need their help. I lost Rs 6898 for the miscommitment and incorrect information provided to me by their unskilled sales agentsDear all initally i have given 5 star once i paid the premium but now i thing its not worth even 1 star. Totally they are fooling customer . Taken policy in mar 20 with premium of 16380 And post 5 month they have cancelled and intated refund without intimating me now for the same policy they are asking 20500. This is how they fool customer. Would request user not to rely on this app. Just taking your money and after 6 month refunding it without any reason. Will take this up to Ombudsman for suredont register yourself with this app , the policy bazzar guys will call you 10-15 times a day n make your life horrible.Never install, by installing you are allowing their workforce to call atleast twice dailyAfter entering all details, before payment page app keeps loading. Doesn't move forward.App is good ... Everything is elobrated but one thing is most annoying that you get multiple random calls almost every day whether you are in meeting, driving,or having lunch dinner.....Please don't call if we search any policy through your app as we get all the details precisely through your well developed app ...Plz it is my utmost request don't disturb anyone..I am afraid of searching anything else from this app because of this annoying reason. ThanksGuys u are talking bout app i took the interview 🤣🤣🤣 this company is nothing but a big horror house...the person taking the interview was pathetic ,racist, horrible and i would say a sadist..he was taking ops round and he treated candidates lik animals. guys pls never ever join this company..ohh my God saved me from this company.must be my good karma in past..i don't knw why companies lik policy bazaar continues to exist.i m not throwing some shade...i m actually throwing all the shade i canFake app my credit score 715 result sorry no loneIt is a worst app i ever seen.....before taking a policy, their customer support personal will make u mad for provoking to taking a policy and also give u so many promise from policy bazar.....if u trust them then u will become a mad, just like me........trust me after taking a policy from them THEY WILL HAVE NO INTEREST ON U AND ON UR POLICY........i dont want to give them any single star but there is no option for this purpose i am giving a star.....They call you when you have a query about new policy. They don't when it's about existing policy . Try not to buy policy with them.1 star bhi jyda hai inke liye ..Policy is just the name of the market, it is zero at the ground level...Not a policy since 15 days or after that without calling the customer and quietly refunding.I have never seen such bad service.I will tell people to never take a policy from them. You can directly go to the company office and take it.It's just a big bruhonce visited to site regularly call it's very much disturbedNo option to logout from all devices. Guys valuable policies and data is in your app. Please give us the option to logout from all devices. I raised a complaint as well to logout my account. Dont know when it will be done. Just fix this asapworst app and worst team please dont install this f app and i request  all people dont  get make any policy this app(policy bazar)This application is not working properly automatically Stop after few secondsa bad experience with policy bazaar during this COViD Time purchased max bupa reassure policy worth 1.2 lakhs for my parents didn't get the policy as they were unable to do the medical test necessary and their sales team were very persuasive while I bought my policy. Policy got cancelled it's been 2 weeks,I haven't recieved the amount . During these uncertain times my parents who are above 60 don't have a health cover .I request people to buy policy directly from official insurance websiteVery poor service, customer cut my call after receiving 10 time. Don't buy it's true third party app go to original oneDont share mobile number Policy bazaar reprsentative too much call you, if you not purchess policy thay talk so bad language Think about sericesthe renewal cost of insurance on policy bazar is 5k more then the insurance provider's website. happening for the second timeNo option to call customer care regarding 2 wheeler insurance, only chat option is available which is not helpful much, call back option once scheduled no one is calling back worst customer care service0 star for the customer service and Application.You just need to go on their website or app and put your mobile number. They will call you multiple times. But after sales they will not call you for your problems. Not recomending at all. Because policy sale is easy. But support is matter. Local agent recomended.I made a mistake of searching health insurance 2 months back. They have spammed my number so much that I daiky get spam calls asking about health insurance. If you dont want your number to get spammed, please get your insurance from somewhere else. I wouldn't be writing this long review unless im this much frustrated with this.Its a 2 paisa app...dont waste ur time here, not working on android, not on pc. It just hangs and hangs. I will give 0 starsI don't like executive calling you think we are fool we can not decide fake 5 Star reviewsvery bad app, calls unnecessarilyWORST APP DONT INSTALL IT. Bhut bekar aap h. Policy ke liye itne phone krte h. Or agr policy ke paise cut hone ke baad kahte h policy nhi ki aapne. Or customers care wale v cl attend krne ke baad complaints btao to cl cut kr dene.Useless, i had paid but still policy not receive. Fraud appDeduct money by fraud. Policy bazaar's advisor misguided/ cheated me and though scam, collected 10167 rupees from my account. I cancelled policy (pre-login), now it's 14 days from date of cancellation, still money is not refunded. Policy bazaar's team commiting fake commitment repeatedly. I want my money back otherwise I'm going to escalate this issue to IRDA, Consumer Forum, Will mention everything on Twitter.policy bazar did not help our customersWorst app , Bakvas app Before insurance loat of call After insurance no call Bakvas insurance appWrost service by policy providersWorst app. No one is there to listen you Don't ever buy from this appWorst service in Policy Portability Case. Executives and even seniors doesn't know the meaning of priority basis.Helpline number customer care and support is just for name sake.Never buy insurance from policy bazar worst service i m suffering since 2 month regrading my claim bcaz of policy bazar agent.I am very sorry to say that I am repeatedly requesting you to change my phone number and email ID on this account, but every time you say that phone no and mail id is changed but you didn't.what is the reason. please Reply why?If you want to vomitI will not reffer this app. I took term insurance on 1st July 2024. After I paid the amount no response from the executive. Very poor customer care service. Customer care service executives don't have any knowledge. Don't recommend. Please choose another way to take insurance and service. Better to directly take the insurance from the providers not from the Policy bazaar.Updated the app, just to find out that two wheeler insurance and car insurance options have been removed. if I am not able to use the app for buying motor insurance then the app is useless to meApp could get better like your customer servicepolicy bazaar is a fake type app no quick solutions for customers i don't like this app 😔Worst app. Was just checking some plans on the app. After that, they started to spam a lot, and it's too irritating. Daily more than 5 calls from different numbers. This is the worst part about the policybazar.I've taken my car insurance from Policybazzar, payment also done. But I didn't get any confirmation from the team and I didn't get insurance alsoHi Team, I found this app very helpful but not getting the option to edit my profile. Actually by mistake I have entered my incorrect DOB there and now not able to edit it. Because of this reason i am not able to see my Free Credit Report as well. Please suggest how can i edit my DOB. I tried to uninstall and reinstall later as well but still everytime i enter the mobile number it fetches the old information. Please check.You advertisement have anti national person that why I uninstalled the appSelling policies for your own benefit only and making us pay more premium by cheating n hiding many many charges and also making use buy unnecessary add ons. Never ever recieved genuine advise by policy bazaar. Always advised as per policy bazaar uses policies and encouraging to buy extra add ons. Worst experience from long time in polic bazaar. Never genuine... Never trust these peoplePlease please dont download this app ... This is not policybazaar this is cheating bazaar they deducted money but not give insuranceFuel selection issue, while selecting fuel during addition of car to the profile - 'something went wrong, try again later'Very bad experience. I applied for a term life insurance in early March 20. Having all relevant things cleared, they are not able to get the policy issued till now. No representative is responsible to give reply for the delay even though they don't talk to me if I forward a request for communication with them. I really disappointed with their shameful behaviour.Worst service, Customer service section is very bad. I have booked a health policy for my mother on September 3 but till this date(22/9/21)the medical check up not done. I have called the customer services several times. They will tell we will contact you, but not done.Payment already deducted,and insurance policy not givenPathetic Experience! The auto debit feature is just useless. Kindly work on your App, or it will be a mess altogetherdr policybazaar register my insurance policy on parivahan site your policy is cheating me so i'm going to register my completed on consumer court it is my bike number KL 41 j 5322 transfer my payment back i don't believe ur cheetting company sent my pay ment im mediatly ur polcy basar company is cheating insurance company i report my problem on ur online web saite and mailWorst sales team. I had purchased insurance for two wheeler from PB since then I have been getting irrirating and disturbing calls from policy bazar. That too from 7 to 8 different numbers. Made a mistake that I purchased policy from this app...never gonna do it again... Very disturbing and irritating...👎👎They are great at scamming people by first taking the money and then fail to render the policy in accordance with the commitment.don't have any option to close my account..What a pathetic latest version not showing addons features which was in in the old version . In the latest version they are missings addons are very much required. Also that my another car is going to 15 year but they are showing no idv for it but other apps are showing and providing value even after 15 years. Policybazaar do check it.This is a fraud company. Once they've got your payment they'll simply put your insurance on waiting. When you tries to contact them, they'd rise some random rules and excuses. I've decided to file a complaint against this companyGajab but pdf send me to letVery bad app Don't download it. After download large number of calls starts ring on your phone. Very bad experienceWhen we want to get policy they help a lot, then after they can't help us as compared beforeBe aware of this app They are making us fool I bought two wheeler insurance policy . After buying they send us pdf . When i authenticate from government website and insurance company website they just showing this insurance does not exist. Buy at your riskAs per my personal experience. Please, don't get yourself fooled by an advertisement on tv & buy a policy here. The customer service is worst & an executives are totally stupid. They will fill your mail & inbox with nothing and once you pay for a premium, executives will get vanished. No offense but the customer service need a big time training. It's not only about showing respect & discipline to the client but also to use the brain in every step. Go with old school & buy everything offline.HOPELESS SERVICE BY POLICY BAZAAR. I am fade up of your hopeless service. I had requested to cancel my health top-up policy of Niva Bupa on 10 Oct 2024, but till date no call is received from your retention department. Do you still have retention department or closed it??!!Third class company...if you only inquire from policy bazar .....company start calling you all the day and employess are also totally third claasssss..........dont share your mobile number ...........Never ever buy anything from policy bazzar. They are the cheaters. Once \\nthey got your money forget those money you will get nothing. I booked \\nhealth policy and next day due to some reason i have cancelled it. They \\nagreed for refund but whenever i asked for it they giving excuses but not \\nrefund. For that finally I have to reach IRDAI and then it got settled. Its \\nmy personal experience.At the time of registration, app isn't taking BH-Series numbers as vehicle registration numberI purchased on policy from this application. But as I found another one suitable for me. I cancelled my previous policy. But after 20 days now I haven't received my refund back.. And most important thing is that customer service is very poor. No body want to help.fake app , they are liars. , do fake commutments to cm.Has some technical glitch...doesn't accept age in travel insurance...says invalid DOBAlways print wrong start and eand date of vehicle policy,When I took a policy from this for my friend, the policy came in my nameNow no insurance for scooter I will never use policy bazaar againStop calling me otherwise I have to take some legal action against youYou start getting flood of calls by just by opening this app and giving your phone number. You will end up feeling harassed by the tele callersTotal fraud application I applied for loan. These people shared my number with everyone One person came took papers in the name of policy bazaar made verification now asking for 10k.yeah they give policy but they call you again and again untill you get frustrated and executives are short tempered blame us for all thing , hire not ho help but harras usPathetic customer service, I made a biggest mistake while done my car insurance through this app. Only you can opt to arrange a call back for any query you have and once you paid the money no one is going to bother to call for your issue.Just checked 2,3 policy in this app and now my whole call list is spammed by marketing team. 😑1 Because of the agent of life or term insurance.Very bad Sarvesh frod to me👎 😕This app impacted my credit score and accounted for low CIBIL score.Very bad experienced from policy bazar ...if you search except car and two wheeler insurance they call you anytime after rejection they incresed their call and abused also . I purchase total 6 auto insurance from policy bazar and also i purchased a term insurance from Max Life through policy bazar but its going to one month passed but yet not issued policy .Customer care personal give some wrong infromation to you. So if you search any policy then never leave your mobile number here.Not opening after the latest update !!it's pb team are very lazy. Not respond to existing costumer request. they are looking for business from new customers...I am totall have bad experience with policy bazaar. I paid amount on 27th Dec 2020 but did not get policy booked till now. And your executives is totally useless to me. Not go with policy bazaar ThanksWorst agent only false promises. Don't use this platform.from United India two-wheeler insurance I buy via policy bazaar after accident I try to claim they treat like an loan barrower. first question they ask why do take insurance in online . and reply that go and claim threw online. then they rejected . I personally recommend people that kindly take insurance if you know any one person from insurance company or trustworthy person. don't fall in trap like policy bazaar.too much frequently calling from policy bazar\""
            ],
            "application/vnd.google.colaboratory.intrinsic+json": {
              "type": "string"
            }
          },
          "metadata": {},
          "execution_count": 4
        }
      ]
    },
    {
      "cell_type": "markdown",
      "source": [
        "## Find tokens in feedback:"
      ],
      "metadata": {
        "id": "DomYnxsi_dzC"
      }
    },
    {
      "cell_type": "code",
      "source": [
        "!pip install tiktoken\n",
        "\n"
      ],
      "metadata": {
        "colab": {
          "base_uri": "https://localhost:8080/"
        },
        "id": "SYPFce9T_h5s",
        "outputId": "d59efe59-b911-4a4b-9b56-8b14ffd478ff"
      },
      "execution_count": 5,
      "outputs": [
        {
          "output_type": "stream",
          "name": "stdout",
          "text": [
            "Requirement already satisfied: tiktoken in /usr/local/lib/python3.11/dist-packages (0.9.0)\n",
            "Requirement already satisfied: regex>=2022.1.18 in /usr/local/lib/python3.11/dist-packages (from tiktoken) (2024.11.6)\n",
            "Requirement already satisfied: requests>=2.26.0 in /usr/local/lib/python3.11/dist-packages (from tiktoken) (2.32.3)\n",
            "Requirement already satisfied: charset-normalizer<4,>=2 in /usr/local/lib/python3.11/dist-packages (from requests>=2.26.0->tiktoken) (3.4.1)\n",
            "Requirement already satisfied: idna<4,>=2.5 in /usr/local/lib/python3.11/dist-packages (from requests>=2.26.0->tiktoken) (3.10)\n",
            "Requirement already satisfied: urllib3<3,>=1.21.1 in /usr/local/lib/python3.11/dist-packages (from requests>=2.26.0->tiktoken) (2.3.0)\n",
            "Requirement already satisfied: certifi>=2017.4.17 in /usr/local/lib/python3.11/dist-packages (from requests>=2.26.0->tiktoken) (2025.1.31)\n"
          ]
        }
      ]
    },
    {
      "cell_type": "code",
      "source": [
        "\n",
        "import tiktoken\n",
        "\n",
        "# Assuming 'feedback' variable is defined as in the previous code\n",
        "encoding = tiktoken.encoding_for_model(\"gpt2\") # Choose the appropriate encoding for your model\n",
        "tokens = encoding.encode(feedback)\n",
        "print(len(tokens))\n"
      ],
      "metadata": {
        "colab": {
          "base_uri": "https://localhost:8080/"
        },
        "id": "3R4sk1gj_2be",
        "outputId": "56e8ddee-6580-4b23-d4bc-fa82a66bfe1a"
      },
      "execution_count": 11,
      "outputs": [
        {
          "output_type": "stream",
          "name": "stdout",
          "text": [
            "7325\n"
          ]
        }
      ]
    },
    {
      "cell_type": "markdown",
      "source": [
        "## Summarization"
      ],
      "metadata": {
        "id": "NdjYs8QtAkdj"
      }
    },
    {
      "cell_type": "code",
      "source": [
        "pip install requests"
      ],
      "metadata": {
        "colab": {
          "base_uri": "https://localhost:8080/"
        },
        "id": "FaTZR9Mx54Jn",
        "outputId": "02680fa0-f848-414d-af3f-4b0c65adde28"
      },
      "execution_count": 7,
      "outputs": [
        {
          "output_type": "stream",
          "name": "stdout",
          "text": [
            "Requirement already satisfied: requests in /usr/local/lib/python3.11/dist-packages (2.32.3)\n",
            "Requirement already satisfied: charset-normalizer<4,>=2 in /usr/local/lib/python3.11/dist-packages (from requests) (3.4.1)\n",
            "Requirement already satisfied: idna<4,>=2.5 in /usr/local/lib/python3.11/dist-packages (from requests) (3.10)\n",
            "Requirement already satisfied: urllib3<3,>=1.21.1 in /usr/local/lib/python3.11/dist-packages (from requests) (2.3.0)\n",
            "Requirement already satisfied: certifi>=2017.4.17 in /usr/local/lib/python3.11/dist-packages (from requests) (2025.1.31)\n"
          ]
        }
      ]
    },
    {
      "cell_type": "code",
      "source": [
        "import requests\n",
        "import json\n",
        "\n",
        "# Set your OpenRouter API key\n",
        "#OPENROUTER_API_KEY = \"your-openrouter-api-key\"\n",
        "\n",
        "# Define the text you want to summarize\n",
        "text_to_summarize = feedback\n",
        "\n",
        "# Define the API endpoint and headers\n",
        "url = \"https://openrouter.ai/api/v1/chat/completions\"\n",
        "headers = {\n",
        "    \"Authorization\": f\"Bearer {OPENROUTER_API_KEY}\",\n",
        "    \"Content-Type\": \"application/json\"\n",
        "}\n",
        "\n",
        "# Define the payload (request body)\n",
        "payload = {\n",
        "    \"model\": \"openai/gpt-3.5-turbo\",  # You can use other models like \"anthropic/claude-2\"\n",
        "    \"messages\": [\n",
        "        {\"role\": \"system\", \"content\": \"You are a expert assistant with expertize in summarizing customer feedback.\"},\n",
        "        {\"role\": \"user\", \"content\": f\"Please provide a short and concise summary of type of issues customers are facing:\\n\\n{text_to_summarize}\"}\n",
        "    ]\n",
        "}\n",
        "\n",
        "# Make the API request\n",
        "response = requests.post(url, headers=headers, data=json.dumps(payload))\n",
        "\n",
        "# Parse the response\n",
        "if response.status_code == 200:\n",
        "    result = response.json()\n",
        "    summary = result['choices'][0]['message']['content']\n",
        "    print(\"Summary:\", summary)\n",
        "else:\n",
        "    print(\"Error:\", response.status_code, response.text)"
      ],
      "metadata": {
        "colab": {
          "base_uri": "https://localhost:8080/"
        },
        "id": "2kQSAF9f6F_t",
        "outputId": "efcafbb8-7e80-4703-c3bb-0ead57750388"
      },
      "execution_count": 15,
      "outputs": [
        {
          "output_type": "stream",
          "name": "stdout",
          "text": [
            "Summary: Customers are facing various issues with Policy Bazaar, including fraudulent behavior, misleading information, poor after-sales support, frequent and aggressive marketing calls, technical glitches in the app, incorrect policy details, delays in policy issuance, excessive spam calls, failure to address customer queries and complaints, difficulties in profile editing, unsatisfactory customer service, refusal of claims, lack of resolution to concerns, dissatisfaction with the app's performance, misuse of personal information for marketing purposes, discrepancies in policy documents, challenges in accessing policies post-purchase, lack of response to emails and messages, improper communication addresses in policies, and issues with payment processing. Customers are advised to exercise caution when using the app or purchasing policies from Policy Bazaar.\n"
          ]
        }
      ]
    },
    {
      "cell_type": "markdown",
      "source": [
        "# Test"
      ],
      "metadata": {
        "id": "5tsS58KPacFJ"
      }
    }
  ]
}